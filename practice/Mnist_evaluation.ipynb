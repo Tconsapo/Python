{
 "cells": [
  {
   "cell_type": "markdown",
   "metadata": {
    "colab_type": "text",
    "id": "Ah7dy1kFL2H9"
   },
   "source": [
    "# Распознавание рукописных цифр из набора данных MNIST"
   ]
  },
  {
   "cell_type": "code",
   "execution_count": 1,
   "metadata": {
    "colab": {
     "autoexec": {
      "startup": false,
      "wait_interval": 0
     }
    },
    "colab_type": "code",
    "id": "qrfd6FzSLrE2"
   },
   "outputs": [],
   "source": [
    "from tensorflow.python.keras.datasets import mnist\n",
    "from tensorflow.python.keras.models import Sequential\n",
    "from tensorflow.python.keras.layers import Dense\n",
    "from tensorflow.python.keras import utils, optimizers\n",
    "import numpy as np\n",
    "import matplotlib.pyplot as plt\n",
    "from random import randint\n",
    "%matplotlib inline "
   ]
  },
  {
   "cell_type": "markdown",
   "metadata": {
    "colab_type": "text",
    "id": "xiurjCBVMDTG"
   },
   "source": [
    "## Подготовка данных для обучения сети"
   ]
  },
  {
   "cell_type": "markdown",
   "metadata": {
    "colab_type": "text",
    "id": "1yDF75Cx8VPz"
   },
   "source": [
    "**Загружаем набор данных с рукописными цифрами**"
   ]
  },
  {
   "cell_type": "code",
   "execution_count": 2,
   "metadata": {
    "colab": {
     "autoexec": {
      "startup": false,
      "wait_interval": 0
     }
    },
    "colab_type": "code",
    "id": "E5L3LUIi8PDV"
   },
   "outputs": [],
   "source": [
    "(X_train, y_train), (X_test, y_test) = mnist.load_data()"
   ]
  },
  {
   "cell_type": "markdown",
   "metadata": {
    "colab_type": "text",
    "id": "7uXTnIojJLbl"
   },
   "source": [
    "**Преобразование размерности данных в наборе**"
   ]
  },
  {
   "cell_type": "code",
   "execution_count": 3,
   "metadata": {
    "colab": {
     "autoexec": {
      "startup": false,
      "wait_interval": 0
     }
    },
    "colab_type": "code",
    "id": "GBAqLKjGJJ-V"
   },
   "outputs": [],
   "source": [
    "X_train = X_train.reshape(60000, 784)\n",
    "X_test = X_test.reshape(10000, 784)"
   ]
  },
  {
   "cell_type": "markdown",
   "metadata": {
    "colab_type": "text",
    "id": "hDaHO5LgJYxU"
   },
   "source": [
    "**Нормализация данных**"
   ]
  },
  {
   "cell_type": "code",
   "execution_count": 4,
   "metadata": {
    "colab": {
     "autoexec": {
      "startup": false,
      "wait_interval": 0
     }
    },
    "colab_type": "code",
    "id": "rscaAuBNJdq9"
   },
   "outputs": [],
   "source": [
    "X_train = X_train.astype('float32')\n",
    "X_test = X_test.astype('float32')\n",
    "X_train /= 255\n",
    "X_test /= 255"
   ]
  },
  {
   "cell_type": "markdown",
   "metadata": {
    "colab_type": "text",
    "id": "KRcMlNzqJk1t"
   },
   "source": [
    "**Работа с правильными ответами**"
   ]
  },
  {
   "cell_type": "code",
   "execution_count": 5,
   "metadata": {
    "colab": {
     "autoexec": {
      "startup": false,
      "wait_interval": 0
     },
     "base_uri": "https://localhost:8080/",
     "height": 34
    },
    "colab_type": "code",
    "executionInfo": {
     "elapsed": 616,
     "status": "ok",
     "timestamp": 1521113381879,
     "user": {
      "displayName": "Andrey Sozykin",
      "photoUrl": "//lh5.googleusercontent.com/-ErNH158Vx74/AAAAAAAAAAI/AAAAAAAAALA/FLh7rOkXgJs/s50-c-k-no/photo.jpg",
      "userId": "101492825683836041366"
     },
     "user_tz": -300
    },
    "id": "A5lKe_syJqPu",
    "outputId": "d205b482-7bb3-4d7f-c7c8-1c9533183fe5"
   },
   "outputs": [
    {
     "name": "stdout",
     "output_type": "stream",
     "text": [
      "5\n"
     ]
    }
   ],
   "source": [
    "n = 100\n",
    "print(y_train[n])"
   ]
  },
  {
   "cell_type": "markdown",
   "metadata": {
    "colab_type": "text",
    "id": "zqJ9GA1kJxBF"
   },
   "source": [
    "**Преобразуем метки в формат one hot encoding**"
   ]
  },
  {
   "cell_type": "code",
   "execution_count": 6,
   "metadata": {
    "colab": {
     "autoexec": {
      "startup": false,
      "wait_interval": 0
     }
    },
    "colab_type": "code",
    "id": "zQnasUyyJ3cG"
   },
   "outputs": [],
   "source": [
    "Y_train = utils.to_categorical(y_train, 10)\n",
    "Y_test = utils.to_categorical(y_test, 10)"
   ]
  },
  {
   "cell_type": "markdown",
   "metadata": {
    "colab_type": "text",
    "id": "KfuqlyjHJ_ye"
   },
   "source": [
    "**Правильный ответ в формате one hot encoding**"
   ]
  },
  {
   "cell_type": "code",
   "execution_count": 7,
   "metadata": {
    "colab": {
     "autoexec": {
      "startup": false,
      "wait_interval": 0
     },
     "base_uri": "https://localhost:8080/",
     "height": 35
    },
    "colab_type": "code",
    "executionInfo": {
     "elapsed": 664,
     "status": "ok",
     "timestamp": 1521020333192,
     "user": {
      "displayName": "Andrey Sozykin",
      "photoUrl": "//lh5.googleusercontent.com/-ErNH158Vx74/AAAAAAAAAAI/AAAAAAAAALA/FLh7rOkXgJs/s50-c-k-no/photo.jpg",
      "userId": "101492825683836041366"
     },
     "user_tz": -300
    },
    "id": "9zUfd1aeKH3e",
    "outputId": "f0422b67-7b91-4ffc-d520-ecb664600153"
   },
   "outputs": [
    {
     "name": "stdout",
     "output_type": "stream",
     "text": [
      "[0. 0. 0. 0. 0. 1. 0. 0. 0. 0.]\n"
     ]
    }
   ],
   "source": [
    "print(Y_train[n])"
   ]
  },
  {
   "cell_type": "markdown",
   "metadata": {
    "colab_type": "text",
    "id": "BmTr_lXTKNbN"
   },
   "source": [
    "## Создаем нейронную сеть"
   ]
  },
  {
   "cell_type": "markdown",
   "metadata": {
    "colab_type": "text",
    "id": "fV_igNZuMNXe"
   },
   "source": [
    "**Создаем последовательную модель**"
   ]
  },
  {
   "cell_type": "code",
   "execution_count": 8,
   "metadata": {
    "colab": {
     "autoexec": {
      "startup": false,
      "wait_interval": 0
     }
    },
    "colab_type": "code",
    "id": "D-jPYYxIKQkt"
   },
   "outputs": [],
   "source": [
    "model = Sequential()"
   ]
  },
  {
   "cell_type": "markdown",
   "metadata": {
    "colab_type": "text",
    "id": "Q3QzIVtBMQRG"
   },
   "source": [
    "**Добавляем уровни сети**"
   ]
  },
  {
   "cell_type": "code",
   "execution_count": 9,
   "metadata": {
    "colab": {
     "autoexec": {
      "startup": false,
      "wait_interval": 0
     }
    },
    "colab_type": "code",
    "id": "kYVSvpNIMSnG"
   },
   "outputs": [],
   "source": [
    "model.add(Dense(784, input_dim=784, activation=\"relu\"))\n",
    "model.add(Dense(28, input_dim=28, activation=\"relu\"))\n",
    "model.add(Dense(10, activation=\"softmax\"))"
   ]
  },
  {
   "cell_type": "markdown",
   "metadata": {
    "colab_type": "text",
    "id": "G__m76T-KWhd"
   },
   "source": [
    "**Компилируем сеть**"
   ]
  },
  {
   "cell_type": "code",
   "execution_count": 10,
   "metadata": {
    "colab": {
     "autoexec": {
      "startup": false,
      "wait_interval": 0
     },
     "base_uri": "https://localhost:8080/",
     "height": 235
    },
    "colab_type": "code",
    "executionInfo": {
     "elapsed": 674,
     "status": "ok",
     "timestamp": 1521025158074,
     "user": {
      "displayName": "Andrey Sozykin",
      "photoUrl": "//lh5.googleusercontent.com/-ErNH158Vx74/AAAAAAAAAAI/AAAAAAAAALA/FLh7rOkXgJs/s50-c-k-no/photo.jpg",
      "userId": "101492825683836041366"
     },
     "user_tz": -300
    },
    "id": "PTcbSxchKZjd",
    "outputId": "e810d96a-7509-4a68-bda9-9c62fd7a9310"
   },
   "outputs": [
    {
     "name": "stdout",
     "output_type": "stream",
     "text": [
      "_________________________________________________________________\n",
      "Layer (type)                 Output Shape              Param #   \n",
      "=================================================================\n",
      "dense (Dense)                (None, 784)               615440    \n",
      "_________________________________________________________________\n",
      "dense_1 (Dense)              (None, 28)                21980     \n",
      "_________________________________________________________________\n",
      "dense_2 (Dense)              (None, 10)                290       \n",
      "=================================================================\n",
      "Total params: 637,710\n",
      "Trainable params: 637,710\n",
      "Non-trainable params: 0\n",
      "_________________________________________________________________\n",
      "None\n"
     ]
    }
   ],
   "source": [
    "sgd = optimizers.SGD(lr=0.01, clipnorm=1.)\n",
    "model.compile(loss=\"categorical_crossentropy\", optimizer=sgd, metrics=[\"accuracy\"])\n",
    "\n",
    "print(model.summary())"
   ]
  },
  {
   "cell_type": "markdown",
   "metadata": {
    "colab_type": "text",
    "id": "lspCHiaCKl72"
   },
   "source": [
    "## Обучаем нейронную сеть"
   ]
  },
  {
   "cell_type": "code",
   "execution_count": 11,
   "metadata": {
    "colab": {
     "autoexec": {
      "startup": false,
      "wait_interval": 0
     },
     "base_uri": "https://localhost:8080/",
     "height": 944
    },
    "colab_type": "code",
    "executionInfo": {
     "elapsed": 38074,
     "status": "ok",
     "timestamp": 1521025198450,
     "user": {
      "displayName": "Andrey Sozykin",
      "photoUrl": "//lh5.googleusercontent.com/-ErNH158Vx74/AAAAAAAAAAI/AAAAAAAAALA/FLh7rOkXgJs/s50-c-k-no/photo.jpg",
      "userId": "101492825683836041366"
     },
     "user_tz": -300
    },
    "id": "H6EIXu1dKoju",
    "outputId": "b4255fb0-36f7-43fa-ab6c-cf0748c76844",
    "scrolled": true
   },
   "outputs": [],
   "source": [
    "history = model.fit(X_train, Y_train, batch_size=100, epochs=25, validation_split=0.1, verbose=0)"
   ]
  },
  {
   "cell_type": "markdown",
   "metadata": {
    "colab_type": "text",
    "id": "7Ainmp4ASA0_"
   },
   "source": [
    "## Оцениваем качество работы сети"
   ]
  },
  {
   "cell_type": "markdown",
   "metadata": {
    "colab_type": "text",
    "id": "njz1tmjxSSrw"
   },
   "source": [
    "**Качество работы сети на тестовых данных**"
   ]
  },
  {
   "cell_type": "code",
   "execution_count": 12,
   "metadata": {
    "colab": {
     "autoexec": {
      "startup": false,
      "wait_interval": 0
     },
     "base_uri": "https://localhost:8080/",
     "height": 35
    },
    "colab_type": "code",
    "executionInfo": {
     "elapsed": 1215,
     "status": "ok",
     "timestamp": 1521025302151,
     "user": {
      "displayName": "Andrey Sozykin",
      "photoUrl": "//lh5.googleusercontent.com/-ErNH158Vx74/AAAAAAAAAAI/AAAAAAAAALA/FLh7rOkXgJs/s50-c-k-no/photo.jpg",
      "userId": "101492825683836041366"
     },
     "user_tz": -300
    },
    "id": "X7hvlEaySHfv",
    "outputId": "ded594f3-ad66-4d86-f116-4bf5ee944397"
   },
   "outputs": [
    {
     "name": "stdout",
     "output_type": "stream",
     "text": [
      "10000/10000 [==============================] - 1s 71us/step\n",
      "Точность работы на тестовых данных: 96.50%\n"
     ]
    }
   ],
   "source": [
    "scores = model.evaluate(X_test, Y_test, verbose=1)\n",
    "print(\"Точность работы на тестовых данных: %.2f%%\" % (scores[1]*100))"
   ]
  },
  {
   "cell_type": "markdown",
   "metadata": {
    "colab_type": "text",
    "id": "67czWh4PSXDG"
   },
   "source": [
    "**График качества во время обучения**"
   ]
  },
  {
   "cell_type": "code",
   "execution_count": 13,
   "metadata": {
    "colab": {
     "autoexec": {
      "startup": false,
      "wait_interval": 0
     },
     "base_uri": "https://localhost:8080/",
     "height": 279
    },
    "colab_type": "code",
    "executionInfo": {
     "elapsed": 710,
     "status": "ok",
     "timestamp": 1521025786539,
     "user": {
      "displayName": "Andrey Sozykin",
      "photoUrl": "//lh5.googleusercontent.com/-ErNH158Vx74/AAAAAAAAAAI/AAAAAAAAALA/FLh7rOkXgJs/s50-c-k-no/photo.jpg",
      "userId": "101492825683836041366"
     },
     "user_tz": -300
    },
    "id": "qXtCHXiuScAe",
    "outputId": "9b19fc0b-b285-4a7f-d3e9-7c5907a5e36e"
   },
   "outputs": [
    {
     "data": {
      "image/png": "[encoded data removed]",
      "text/plain": [
       "<Figure size 432x288 with 1 Axes>"
      ]
     },
     "metadata": {},
     "output_type": "display_data"
    }
   ],
   "source": [
    "history_dict = history.history\n",
    "acc_values = history_dict['acc']\n",
    "val_acc_values = history_dict['val_acc']\n",
    "epochs = range(1, len(acc_values) + 1)\n",
    "plt.plot(epochs, acc_values, 'bo', label='Training acc')\n",
    "plt.plot(epochs, val_acc_values, 'b', label='Validation acc')\n",
    "plt.xlabel('Epochs')\n",
    "plt.ylabel('Accuracy')\n",
    "plt.legend()\n",
    "plt.show()"
   ]
  },
  {
   "cell_type": "markdown",
   "metadata": {
    "colab_type": "text",
    "id": "7vMx5V5QMYlW"
   },
   "source": [
    "## Используем сеть для распознавания рукописных цифр"
   ]
  },
  {
   "cell_type": "code",
   "execution_count": 14,
   "metadata": {
    "colab": {
     "autoexec": {
      "startup": false,
      "wait_interval": 0
     }
    },
    "colab_type": "code",
    "id": "-AGygAcPMd0G"
   },
   "outputs": [
    {
     "name": "stdout",
     "output_type": "stream",
     "text": [
      "3 = 3 True\n",
      "3 = 3 True\n",
      "4 = 4 True\n",
      "2 = 2 True\n",
      "7 = 7 True\n",
      "1 = 1 True\n",
      "4 = 4 True\n",
      "3 = 3 True\n",
      "8 = 8 True\n",
      "6 = 6 True\n"
     ]
    }
   ],
   "source": [
    "for i in range (0, 10):\n",
    "    n_rec = randint(0,10000)\n",
    "    x = X_test[n_rec]\n",
    "    x = np.expand_dims(x, axis=0)\n",
    "    prediction = np.argmax(model.predict(x))\n",
    "    print(prediction, '=', y_test[n_rec], prediction == y_test[n_rec])"
   ]
  }
 ],
 "metadata": {
  "accelerator": "GPU",
  "colab": {
   "default_view": {},
   "name": "Mnist_evaluation.ipynb",
   "provenance": [
    {
     "file_id": "1VeEeArZAekRLCx2AwZw1v9_FyA58gaaR",
     "timestamp": 1521009715627
    }
   ],
   "version": "0.3.2",
   "views": {}
  },
  "kernelspec": {
   "display_name": "Python 3",
   "language": "python",
   "name": "python3"
  },
  "language_info": {
   "codemirror_mode": {
    "name": "ipython",
    "version": 3
   },
   "file_extension": ".py",
   "mimetype": "text/x-python",
   "name": "python",
   "nbconvert_exporter": "python",
   "pygments_lexer": "ipython3",
   "version": "3.6.5"
  }
 },
 "nbformat": 4,
 "nbformat_minor": 1
}
